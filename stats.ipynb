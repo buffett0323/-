{
 "cells": [
  {
   "cell_type": "code",
   "execution_count": 4,
   "metadata": {},
   "outputs": [
    {
     "name": "stdout",
     "output_type": "stream",
     "text": [
      "(2626089, 4, 12)\n",
      "[[600.         1.         4.         4.        99.        97.\n",
      "  139.770142  35.697872   5.         0.      ]\n",
      " [  8.         1.         4.         4.        11.         1.\n",
      "  139.770139  35.698142   5.        10.      ]\n",
      " [ 20.         1.         4.         4.        11.        12.\n",
      "  139.764575  35.699903   5.        10.      ]]\n"
     ]
    }
   ],
   "source": [
    "# Train the model for level 2 new data same model\n",
    "import os\n",
    "import torch\n",
    "import pandas as pd\n",
    "import numpy as np\n",
    "import torch.nn as nn\n",
    "\n",
    "from sklearn.model_selection import train_test_split\n",
    "from sklearn.preprocessing import StandardScaler\n",
    "from torch.utils.data import DataLoader, Dataset\n",
    "from tqdm import tqdm\n",
    "from torch.optim.lr_scheduler import StepLR\n",
    "from datetime import datetime\n",
    "from imblearn.over_sampling import SMOTE\n",
    "from imblearn.under_sampling import RandomUnderSampler\n",
    "from params import device, SEQ_LENGTH\n",
    "from model import HybridLSTM, HybridGRU\n",
    "from dataset import SplitDataset\n",
    "from labeling import label_mapping, label_removing\n",
    "from training import training_hybrid\n",
    "from testing import testing_hybrid\n",
    "\n",
    "# Define the path\n",
    "path = 'data/'\n",
    "md_path = 'new_model_pth/'\n",
    "\n",
    "\n",
    "LOOKBACK = SEQ_LENGTH - 1\n",
    "num_epochs = 200\n",
    "\n",
    "# Sequence data with sequence length\n",
    "seq_data = np.load(f'{path}/trans_new_{SEQ_LENGTH}.npy', allow_pickle=True) # (6, 770400, 8)\n",
    "seq_data = np.transpose(seq_data, (1, 0, 2))\n",
    "\n",
    "seq_x = seq_data[:LOOKBACK, :, 1: -3].astype(np.float64) # Temporarily remove 0 (the time)\n",
    "seq_y1 = seq_data[LOOKBACK, :, -2].astype(np.float64) # Predict the box\n",
    "seq_y2 = seq_data[LOOKBACK, :, -1].astype(np.float64)\n",
    "seq_x = np.transpose(seq_x, (1, 0, 2))\n",
    "\n",
    "# Time lag\n",
    "added_x = np.transpose(seq_data[:, :, 0], (1, 0))\n",
    "datetime_array, hour_array = [], []\n",
    "for row in added_x:\n",
    "    datetime_row = [datetime.strptime(date_string, '%Y-%m-%d %H:%M:%S') for date_string in row]\n",
    "    diff_list = [int((datetime_row[i+1] - datetime_row[i]).seconds / 60 )for i in range(len(datetime_row)-1)]\n",
    "    hour_list = [int(item.hour) for item in datetime_row[:-1]]\n",
    "    datetime_array.append(diff_list)\n",
    "    hour_array.append(hour_list)\n",
    "    \n",
    "\n",
    "# Concatenate the two arrays along the new axis (axis=2)\n",
    "dt_arr = np.expand_dims(np.array(datetime_array), axis=2)\n",
    "hr_arr = np.expand_dims(np.array(hour_array), axis=2)   \n",
    "seq_x = np.concatenate((dt_arr, seq_x), axis=2)\n",
    "seq_x = np.concatenate((seq_x, hr_arr), axis=2)\n",
    "y_cluster = label_mapping(list(seq_y1), list(seq_y2))"
   ]
  },
  {
   "cell_type": "code",
   "execution_count": 21,
   "metadata": {},
   "outputs": [],
   "source": [
    "seq_length = seq_x.shape[0]\n",
    "cnt = 0\n",
    "# for i in range(seq_length):\n",
    "#     tmp = seq_x[i,-1,-1]\n",
    "#     if int(tmp) != y_cluster[i]:\n",
    "#         cnt += 1\n",
    "    \n",
    "\n"
   ]
  },
  {
   "cell_type": "code",
   "execution_count": 22,
   "metadata": {},
   "outputs": [
    {
     "data": {
      "text/plain": [
       "0.989766150347532"
      ]
     },
     "execution_count": 22,
     "metadata": {},
     "output_type": "execute_result"
    }
   ],
   "source": [
    "cnt / len(y_cluster)"
   ]
  },
  {
   "cell_type": "code",
   "execution_count": 26,
   "metadata": {},
   "outputs": [
    {
     "data": {
      "text/plain": [
       "[91.99, 90.77, 91.96, 90.9, 92.6, 91.28]"
      ]
     },
     "execution_count": 26,
     "metadata": {},
     "output_type": "execute_result"
    }
   ],
   "source": [
    "l = [96.04, 94.82, 96.01, 94.95, 96.65, 95.33]\n",
    "l = [round(i-4.05,2) for i in l]\n",
    "l"
   ]
  },
  {
   "cell_type": "code",
   "execution_count": 35,
   "metadata": {},
   "outputs": [],
   "source": [
    "seq_data = np.load(f'{path}/trans_new_{SEQ_LENGTH}.npy', allow_pickle=True)\n",
    "seq_len = seq_data.shape[0]\n",
    "\n",
    "ls = []\n",
    "for i in range(seq_len):\n",
    "    ls.append(seq_data[i, -2, 5])\n",
    "\n"
   ]
  },
  {
   "cell_type": "code",
   "execution_count": 36,
   "metadata": {},
   "outputs": [
    {
     "data": {
      "text/plain": [
       "0.31700867716212205"
      ]
     },
     "execution_count": 36,
     "metadata": {},
     "output_type": "execute_result"
    }
   ],
   "source": [
    "ls.count(97) / seq_len"
   ]
  },
  {
   "cell_type": "code",
   "execution_count": 37,
   "metadata": {},
   "outputs": [
    {
     "name": "stdout",
     "output_type": "stream",
     "text": [
      "0.683\n",
      "0.7101999999999999\n",
      "0.6934\n",
      "0.7224999999999999\n",
      "0.6900999999999999\n",
      "0.7189\n"
     ]
    }
   ],
   "source": [
    "l = [0.3170, 0.2898, 0.3066, 0.2775, 0.3099, 0.2811]\n",
    "for i in l:\n",
    "    print(1-i)"
   ]
  },
  {
   "cell_type": "code",
   "execution_count": null,
   "metadata": {},
   "outputs": [],
   "source": []
  }
 ],
 "metadata": {
  "kernelspec": {
   "display_name": ".venv",
   "language": "python",
   "name": "python3"
  },
  "language_info": {
   "codemirror_mode": {
    "name": "ipython",
    "version": 3
   },
   "file_extension": ".py",
   "mimetype": "text/x-python",
   "name": "python",
   "nbconvert_exporter": "python",
   "pygments_lexer": "ipython3",
   "version": "3.11.5"
  }
 },
 "nbformat": 4,
 "nbformat_minor": 2
}
